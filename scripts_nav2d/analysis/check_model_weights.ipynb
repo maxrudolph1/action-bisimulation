{
 "cells": [
  {
   "cell_type": "code",
   "execution_count": 1,
   "id": "3ea782b1",
   "metadata": {},
   "outputs": [],
   "source": [
    "import torch\n",
    "import numpy as np\n",
    "import nav2d_representation"
   ]
  },
  {
   "cell_type": "code",
   "execution_count": 2,
   "id": "dcfa4ad2",
   "metadata": {},
   "outputs": [],
   "source": [
    "path1 = '/home/mrudolph/documents/actbisim/scripts_nav2d/rl_models/ss_models/1/model_10041.pt'\n",
    "path2 = '/home/mrudolph/documents/actbisim/scripts_nav2d/rl_models/ss_models/1/model_20055.pt'"
   ]
  },
  {
   "cell_type": "code",
   "execution_count": 3,
   "id": "f49c056d",
   "metadata": {},
   "outputs": [],
   "source": [
    "m1 = torch.load(path1)\n",
    "m2 = torch.load(path2)"
   ]
  },
  {
   "cell_type": "code",
   "execution_count": 4,
   "id": "fb6fb591",
   "metadata": {},
   "outputs": [
    {
     "name": "stdout",
     "output_type": "stream",
     "text": [
      "tensor(-0.2484, device='cuda:0', grad_fn=<SumBackward0>)\n",
      "tensor(-12.8593, device='cuda:0', grad_fn=<SumBackward0>)\n"
     ]
    }
   ],
   "source": [
    "enc_diff = m1[0].conv[0].weight - m2[0].conv[0].weight\n",
    "pol_diff = m1[1].fc[0].weight - m2[1].fc[0].weight\n",
    "print(enc_diff.sum())\n",
    "print(pol_diff.sum())"
   ]
  },
  {
   "cell_type": "code",
   "execution_count": 16,
   "id": "743011a7",
   "metadata": {},
   "outputs": [
    {
     "data": {
      "text/plain": [
       "torch.Size([64, 5, 1, 1])"
      ]
     },
     "execution_count": 16,
     "metadata": {},
     "output_type": "execute_result"
    }
   ],
   "source": [
    "m1[0].conv[0].weight.shape\n"
   ]
  },
  {
   "cell_type": "code",
   "execution_count": 17,
   "id": "da4e81b0",
   "metadata": {},
   "outputs": [
    {
     "data": {
      "text/plain": [
       "Encoder(\n",
       "  (conv): Sequential(\n",
       "    (0): Conv2d(5, 64, kernel_size=(1, 1), stride=(1, 1), padding=same)\n",
       "    (1): ReLU()\n",
       "    (2): Conv2d(64, 64, kernel_size=(1, 1), stride=(1, 1), padding=same)\n",
       "    (3): ReLU()\n",
       "    (4): Conv2d(64, 64, kernel_size=(1, 1), stride=(1, 1), padding=same)\n",
       "    (5): ReLU()\n",
       "    (6): Conv2d(64, 96, kernel_size=(3, 3), stride=(1, 1), padding=same)\n",
       "    (7): ReLU()\n",
       "    (8): MaxPool2d(kernel_size=(2, 2), stride=(2, 2), padding=0, dilation=1, ceil_mode=False)\n",
       "    (9): Conv2d(96, 96, kernel_size=(3, 3), stride=(1, 1), padding=same)\n",
       "    (10): ReLU()\n",
       "    (11): MaxPool2d(kernel_size=(2, 2), stride=(2, 2), padding=0, dilation=1, ceil_mode=False)\n",
       "    (12): Conv2d(96, 128, kernel_size=(3, 3), stride=(1, 1), padding=same)\n",
       "    (13): ReLU()\n",
       "    (14): MaxPool2d(kernel_size=(5, 5), stride=(5, 5), padding=0, dilation=1, ceil_mode=False)\n",
       "  )\n",
       ")"
      ]
     },
     "execution_count": 17,
     "metadata": {},
     "output_type": "execute_result"
    }
   ],
   "source": [
    "m1[0]"
   ]
  },
  {
   "cell_type": "code",
   "execution_count": null,
   "id": "78dc11f8",
   "metadata": {},
   "outputs": [],
   "source": []
  }
 ],
 "metadata": {
  "kernelspec": {
   "display_name": "Python 3 (ipykernel)",
   "language": "python",
   "name": "python3"
  },
  "language_info": {
   "codemirror_mode": {
    "name": "ipython",
    "version": 3
   },
   "file_extension": ".py",
   "mimetype": "text/x-python",
   "name": "python",
   "nbconvert_exporter": "python",
   "pygments_lexer": "ipython3",
   "version": "3.7.12"
  }
 },
 "nbformat": 4,
 "nbformat_minor": 5
}
